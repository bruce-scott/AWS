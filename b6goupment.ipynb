{
 "metadata": {
  "language_info": {
   "codemirror_mode": {
    "name": "ipython",
    "version": 3
   },
   "file_extension": ".py",
   "mimetype": "text/x-python",
   "name": "python",
   "nbconvert_exporter": "python",
   "pygments_lexer": "ipython3",
   "version": "3.8.2-final"
  },
  "orig_nbformat": 2,
  "kernelspec": {
   "name": "python38232bitc79a2500f922491896e14cc783901c2d",
   "display_name": "Python 3.8.2 32-bit"
  }
 },
 "nbformat": 4,
 "nbformat_minor": 2,
 "cells": [
  {
   "cell_type": "code",
   "execution_count": null,
   "metadata": {},
   "outputs": [],
   "source": [
    "# özgür's calculator\n",
    "\n",
    "while True:\n",
    "    print('Lutfen islem yapmak istediginiz sayilari giriniz:')\n",
    "    a = float(input('a='))\n",
    "    b = float(input('b='))\n",
    "    islem = input((\"Lutfen yapmak istediginiz aritmetik islemi seciniz: '+' , '-' , 'x' , '/' \"))\n",
    "    if islem == '+' :\n",
    "        print('a+b=%.2f'% (a+b))\n",
    "    elif islem == '-':\n",
    "        print('a-b=%.2f'% (a-b))\n",
    "    elif islem == 'x':\n",
    "        print('axb={:.2f}'.format(a*b))\n",
    "    elif islem == '/':\n",
    "        print('a/b=%.2f'% (a/b))"
   ]
  },
  {
   "cell_type": "code",
   "execution_count": null,
   "metadata": {},
   "outputs": [],
   "source": [
    "# salih's calculator\n",
    "\n",
    "def operation(x, y, z):\n",
    "    if  z == \"+\":\n",
    "        answer = x + y\n",
    "        return answer\n",
    "    elif z == \"-\":\n",
    "        answer = x - y\n",
    "        return answer\n",
    "    elif z == \"*\":\n",
    "        answer = x * y\n",
    "        return answer\n",
    "    elif z == \"/\":\n",
    "        answer = x / y\n",
    "        return answer\n",
    "    else:\n",
    "        print(\"Please enter a valid arithmetic operation\")"
   ]
  },
  {
   "cell_type": "code",
   "execution_count": null,
   "metadata": {},
   "outputs": [],
   "source": [
    "# berk's calculator\n",
    "\n",
    "def hesap_makinesi(a, b, islem):\n",
    "    if islem == \"+\":\n",
    "        print(a + b)\n",
    "    elif islem == \"-\":\n",
    "        print(a - b)\n",
    "    elif islem == \"*\":\n",
    "        print(a * b)\n",
    "    elif islem == \"/\":\n",
    "        print(a / b)\n",
    "hesap_makinesi(4,5, \"/\")"
   ]
  },
  {
   "cell_type": "code",
   "execution_count": null,
   "metadata": {},
   "outputs": [],
   "source": [
    "# hasan's calculator\n",
    "\n",
    "def hesap_mak (a, b, opr):\n",
    "    toplam = a + b\n",
    "    cikar = a - b\n",
    "    carp = a * b\n",
    "    bol = a / b\n",
    "    if opr == \"+\":\n",
    "        toplam = a + b\n",
    "        print(toplam)\n",
    "    elif opr == \"-\":\n",
    "        cikar = a - b\n",
    "        print(a - b)\n",
    "    elif opr == \"*\":\n",
    "        carpma = a * b\n",
    "        print(a * b)\n",
    "    elif opr == \"/\":\n",
    "        bol = a / b\n",
    "        print(a / b)\n",
    "    else : return (\"enter valid arguments!\")\n",
    "a = int(input(\"pls enter the first number\"))\n",
    "b = int(input(\"pls enter the second number\"))\n",
    "opr = (input(\"pls specify the symbol of the calculation among '+', '-', ' *', '/'\")).strip()\n",
    "(hesap_mak(a, b, opr))"
   ]
  },
  {
   "cell_type": "code",
   "execution_count": null,
   "metadata": {},
   "outputs": [],
   "source": [
    "# furkan's calculator\n",
    "\n",
    "while True:\n",
    "    value1 = input('First value: ')\n",
    "    oper = input('Operation (+,-,/,x): ').lower()\n",
    "    value2 = input('Second value: ')\n",
    "    if value1.isdigit() and value2.isdigit():\n",
    "        value1 = int(value1)\n",
    "        value2 = int(value2)\n",
    "        if oper == 'x':\n",
    "            print(value1 * value2)\n",
    "        elif oper == '/':\n",
    "            print(value1 / value2)\n",
    "        elif oper == '+':\n",
    "            print(value1 + value2)\n",
    "        elif oper == '-':\n",
    "            print(value1 - value2)\n",
    "        else:\n",
    "            print(\"Please enter only one of these operators -> '+,-,/,x' \")\n",
    "    else:\n",
    "        print(\"Please enter only numeric values\")"
   ]
  },
  {
   "cell_type": "code",
   "execution_count": null,
   "metadata": {},
   "outputs": [],
   "source": [
    "# yusuf's calculator\n",
    "\n",
    "print(\"\"\"\" ******************************\n",
    "C   A   L   C   U   L   A   T   A   R\n",
    "Chose your process name :\n",
    "1.addition\n",
    "2.subtraction\n",
    "3.multiplication\n",
    "4.division\n",
    "5.exponentiate\n",
    "********************************\n",
    "\"\"\")\n",
    "x=int(input(\"enter first number:\"))\n",
    "y=int(input(\"enter second number:\"))\n",
    "a=int(input(\"enter your process:\"))\n",
    "if a==1:\n",
    "    print(\"{} with {} result of addition :{}\".format(x,y,x+y))\n",
    "elif a==2:\n",
    "    print(\"{} with {} result of subtraction :{}\".format(x,y,x-y))\n",
    "elif a==3:\n",
    "    print(\"{} with {} result of multiplication :{}\".format(x,y,x*y))\n",
    "elif a==4:\n",
    "    print(\"{} with {} result of division :{}\".format(x,y,x/y))\n",
    "elif a==5:\n",
    "    print(\"{} with {} result of exponentiate :{}\".format(x,y,x**y))\n",
    "else:\n",
    "    print(\"invalid process please try again\")"
   ]
  },
  {
   "cell_type": "code",
   "execution_count": null,
   "metadata": {
    "tags": []
   },
   "outputs": [],
   "source": [
    "while True:\n",
    "  print(\"\"\"\n",
    "  Welcome to calculater.\n",
    "  Please select your operation;\n",
    "  1. Calculator\n",
    "  2. Fibonacci\n",
    "  3. Find sum of numbers that can divided by 5 or 3\n",
    "  Q . Press q for quit.\n",
    "    \"\"\")\n",
    "  op = input(\"Please select your operation 1, 2, 3, q: \").strip().lower()\n",
    "  if op == \"q\":\n",
    "    print(\"See you later. Program is closing.\")\n",
    "    break\n",
    "  elif op == \"1\":\n",
    "    while True:\n",
    "      print(\"\"\"\n",
    "            CALCULATOR\n",
    "    Please select your operation:\n",
    "        1. Addition\n",
    "        2. Substraction\n",
    "        3. Multiplication\n",
    "        4. Division\n",
    "        Q. Pres q for quit\n",
    "            \"\"\")\n",
    "      select = input(\"Please enter your operation 1, 2, 3, 4, q: \").lower().strip()\n",
    "      if select == \"q\":\n",
    "        print(\"This calculation ended\")\n",
    "        break\n",
    "      elif select not in (\"1\", \"2\", \"3\", \"4\"):\n",
    "        print(\"Invalid choise!\")\n",
    "      else:\n",
    "        num1 = int(input(\"Enter a first number: \"))\n",
    "        num2 = int(input(\"Enter a second number: \"))\n",
    "        if select == \"1\":\n",
    "          print(\"{} + {} = {}\".format(num1, num2, num1 + num2))\n",
    "        elif select == \"2\":\n",
    "          print(\"{} - {} = {}\".format(num1, num2, num1 - num2))\n",
    "        elif select == \"3\":\n",
    "          print(\"{} * {} = {}\".format(num1, num2, num1 * num2))\n",
    "        else:\n",
    "          if num2 !=0:\n",
    "            print(\"{} / {} = {}\".format(num1, num2, num1 / num2))\n",
    "          else:\n",
    "            print(\"Enter number other then zero\")\n",
    "                    # try:\n",
    "                    #     if num1 % num2 == 0:\n",
    "                    #         print(\"{} / {} = {}\".format(num1, num2, num1 // num2))\n",
    "                    #     else:\n",
    "                    #         print(\"{} / {} = {:.2f}\".format(num1, num2, num1 / num2))\n",
    "                    # except ZeroDivisionError:\n",
    "                    #     print(\"Numbers can't diveded by zero\")\n",
    "  elif op == \"2\":\n",
    "    while True:\n",
    "      print(\"\"\"\n",
    "               FIBONACCI\n",
    "    Press q for quit this operation\\n\n",
    "            \"\"\")\n",
    "      num = input(\"Enter a number: \").lower().strip()\n",
    "      if num == \"q\":\n",
    "        print(\"This calculation ended\")\n",
    "        break\n",
    "      else:\n",
    "        num = int(num)\n",
    "        a = 1\n",
    "        b = 1\n",
    "        fibonacci = [a, b] # 1, 1 ,2, 3, 5, 8, 13\n",
    "        while a + b <= num:\n",
    "          a, b = b, a + b\n",
    "          fibonacci.append(b)\n",
    "        print(fibonacci)\n",
    "  elif op == \"3\": #5 1 2 3 4 5\n",
    "    while True:\n",
    "      print(\"\"\"\n",
    "              SUM OF NUMS\n",
    "    Press q for quit this operation\\n\n",
    "            \"\"\")\n",
    "      num = input(\"Please enter a number: \").lower().strip()\n",
    "      summ = 0\n",
    "      if num == \"q\":\n",
    "        print(\"This calculation ended\")\n",
    "        break\n",
    "      else:\n",
    "        num = int(num)\n",
    "        for i in range(num + 1):\n",
    "          if i % 3 == 0 or i % 5 == 0:\n",
    "            summ += i\n",
    "            print(\"Sum of numbers = {}\".format(summ))\n",
    "  else:\n",
    "    print(\"Invalid operation!!\")"
   ]
  },
  {
   "cell_type": "code",
   "execution_count": null,
   "metadata": {},
   "outputs": [],
   "source": [
    "# salih's pyramid\n",
    "\n",
    "number_line = int(input(\"Please enter the number of lines for the pyramid: \"))\n",
    "for i in range(number_line):\n",
    "    print(' '*(number_line - i) + \"*\" * (2*i+1))"
   ]
  },
  {
   "cell_type": "code",
   "execution_count": null,
   "metadata": {},
   "outputs": [],
   "source": [
    "# mevlüt's pyramid\n",
    "\n",
    "satır = int(input())\n",
    "yıldız_carpıcı = 1\n",
    "for i in range(satır):\n",
    "    print(\" \" * satır + (\"*\") * yıldız_carpıcı)\n",
    "    satır -= 1\n",
    "    yıldız_carpıcı += 2"
   ]
  },
  {
   "cell_type": "code",
   "execution_count": null,
   "metadata": {},
   "outputs": [],
   "source": [
    "# berk's pyramid\n",
    "\n",
    "count = int(input(\"enter an integer number: \"))\n",
    "for i in range(1, count + 1):\n",
    "    i = 2 * i - 1\n",
    "    count -= 1\n",
    "    print(count * \" \",(i * \"*\"))"
   ]
  },
  {
   "cell_type": "code",
   "execution_count": null,
   "metadata": {},
   "outputs": [],
   "source": [
    "# necip's pyramid\n",
    "\n",
    "x = int(input(\"Satır sayısını giriniz: \"))\n",
    "for i in range(x):\n",
    "        print(' '*(x-i-1) + '*'*(2*i+1)),"
   ]
  },
  {
   "cell_type": "code",
   "execution_count": null,
   "metadata": {},
   "outputs": [],
   "source": [
    "# hasan's pyramid\n",
    "\n",
    "satir = int(input(\"bir satir sayisi yazin\"))\n",
    "yildiz = \"*\"\n",
    "for i in range(1, satir, 2):\n",
    "    print(f\"{yildiz*i:^20}\")"
   ]
  },
  {
   "cell_type": "code",
   "execution_count": null,
   "metadata": {},
   "outputs": [],
   "source": [
    "# furkan's pyramid\n",
    "\n",
    "satir = int(input(\"Enter a number: \"))\n",
    "for i in range(1,satir+1):\n",
    "    print(\" \" * (satir-i) + \"*\" * (i * 2 - 1))"
   ]
  },
  {
   "cell_type": "code",
   "execution_count": null,
   "metadata": {},
   "outputs": [],
   "source": [
    "# yusuf's pyramid\n",
    "\n",
    "x=int(input('enter a row number:'))\n",
    "i=1\n",
    "while i<=x:\n",
    "    print((x-i)*' ',(i*2-1)*'*')\n",
    "    i+=1"
   ]
  },
  {
   "cell_type": "code",
   "execution_count": null,
   "metadata": {},
   "outputs": [],
   "source": [
    "number_list = [1, 2, 3, 4]\n",
    "result = map(lambda x:x**3, number_list)\n",
    "print(list(result)) "
   ]
  },
  {
   "cell_type": "code",
   "execution_count": null,
   "metadata": {},
   "outputs": [],
   "source": [
    "number_list = [0, 1, 2, 3, 4, 5, 6, 7, 8, 9, 10, 11, 12] \n",
    "divisible_list = filter(lambda x:x%3==0, number_list) \n",
    "print(list(divisible_list))"
   ]
  },
  {
   "cell_type": "code",
   "execution_count": null,
   "metadata": {},
   "outputs": [],
   "source": [
    "number_list=[1, 2, 3, 4, 5]\n",
    "\n",
    "result= list(map(lambda x : x**2, number_list))\n"
   ]
  },
  {
   "cell_type": "code",
   "execution_count": null,
   "metadata": {},
   "outputs": [],
   "source": [
    "number_list=[1, 2, 3, 4, 5, 6, 7, 8, 9, 10]\n",
    "\n",
    "result= list(filter(lambda x : x%2!=0, number_list))   \n"
   ]
  },
  {
   "cell_type": "code",
   "execution_count": null,
   "metadata": {},
   "outputs": [],
   "source": [
    "# brad's calculator\n",
    "\n",
    "print(\"Welcome to Simple Calculator\")\n",
    "x = int(input())\n",
    "a = input()\n",
    "y = int(input())\n",
    "if a == \"+\" :\n",
    "    print(x+y)\n",
    "elif a == \"-\":\n",
    "    print(x-y)\n",
    "elif a == \"*\":\n",
    "    print(x*y)\n",
    "elif a == \"/\":\n",
    "    print(x/y)\n",
    "else :\n",
    "    print(\"Invalid entry!\")"
   ]
  },
  {
   "cell_type": "code",
   "execution_count": null,
   "metadata": {},
   "outputs": [],
   "source": [
    "# brad's pyramid\n",
    "\n",
    "satir=10\n",
    "for i in range(satir):\n",
    "    print(' '*(satir-i-1) + '*'*(2*i+1))"
   ]
  },
  {
   "cell_type": "code",
   "execution_count": null,
   "metadata": {},
   "outputs": [],
   "source": [
    "# berk's calculator\n",
    "\n",
    "def hesap_makinesi(a, b, islem):\n",
    "    if islem == \"+\":\n",
    "        print(a + b)\n",
    "    elif islem == \"-\":\n",
    "        print(a - b)\n",
    "    elif islem == \"*\":\n",
    "        print(a * b)\n",
    "    elif islem == \"/\":\n",
    "        print(a / b)\n",
    "hesap_makinesi(4,5, \"/\")"
   ]
  },
  {
   "cell_type": "code",
   "execution_count": null,
   "metadata": {},
   "outputs": [],
   "source": [
    "#assignment 1 doubler\n",
    "#Given two integer values, return their sum. If the two values are the same, then #return double their sum.\n",
    "\n",
    "def sum_double(x, y):\n",
    "    return x + y if x != y else (x + y) * 2\n",
    "\n",
    "print(sum_double(1, 2))\n",
    "print(sum_double(5, 7))\n",
    "print(sum_double(5, 5))\n"
   ]
  },
  {
   "cell_type": "code",
   "execution_count": null,
   "metadata": {},
   "outputs": [],
   "source": [
    "#assignment2\n",
    "\n",
    "#Define a function taking two parameters (talking and hour) to return True if we #are in trouble. The argument to  talking parameter can only be True or False #whether it is talking or not. The argument to hour parameter should be the #current hour time in the range of 0 to 23.\n",
    "\n",
    "def parrot_trouble(talking, hour):\n",
    "    return True if hour < 6 or hour > 21 and talking else False\n",
    "\n",
    "print(parrot_trouble(True, 5))"
   ]
  },
  {
   "cell_type": "code",
   "execution_count": null,
   "metadata": {},
   "outputs": [],
   "source": [
    "#assignment 3\n",
    "\n",
    "#Define a function to take a word and return negative meaning.\n",
    "#Given a word, return a new word where \"not \" has been added to the front. However,# if the word already begins with \"not\", return the string unchanged.\n",
    "\n",
    "def not_string(word):\n",
    "    return word if word.startswith('not') else ('not ' + word)\n",
    "\n",
    "print(not_string('sugar'))\n"
   ]
  },
  {
   "cell_type": "code",
   "execution_count": null,
   "metadata": {},
   "outputs": [],
   "source": [
    "#assignment 4\n",
    "\n",
    "#Given a non-empty string and an int n, return a new string where the character at #index n has been removed. The value of n will be a valid index of a character in #the original string (i.e. n will be in the range 0....len(str)-1 inclusive).\n",
    "\n",
    "def missing_char(word, n):\n",
    "    return word[:n] + word[n+1:]\n",
    "\n",
    "print(missing_char('kitchen', 1))"
   ]
  },
  {
   "cell_type": "code",
   "execution_count": null,
   "metadata": {},
   "outputs": [],
   "source": [
    "#assignment-5\n",
    "\n",
    "#Given a string, return a new string where the first and last chars have been #exchanged.\n",
    "\n",
    "def front_back(word):\n",
    "    return word if len(word)<=1 else word[-1] + word[1:-1] + word[0]\n",
    "print(front_back('clarusway'))\n"
   ]
  },
  {
   "cell_type": "code",
   "execution_count": null,
   "metadata": {
    "tags": []
   },
   "outputs": [],
   "source": [
    "#assignment-6\n",
    "\n",
    "#Define a function named my_min to find the min of the inputted numbers.\n",
    "\n",
    "def my_min(*args):\n",
    "    return min(args)\n",
    "print(my_min(5,6,7))\n",
    "print(my_min(3,8,-9,0,12,1.2))\n",
    "print(my_min(-100))\n",
    "\n",
    "\n",
    "\n"
   ]
  },
  {
   "cell_type": "code",
   "execution_count": null,
   "metadata": {
    "tags": []
   },
   "outputs": [],
   "source": [
    "#Given 3 int values, a b c, return their sum. However, if one of the values is 13 #then it does not count towards the sum and values to its right do not count. So #for example, if b is 13, then both b and c do not count.\n",
    "\n",
    "def lucky_sum(a, b, c):\n",
    "  if a == 13:\n",
    "    return 0\n",
    "  elif b == 13 and a !=13:\n",
    "    return a\n",
    "  elif c == 13 and  a!=13 and b!=13:\n",
    "    return a+b\n",
    "  else:\n",
    "    return a+b+c\n",
    "\n",
    "\n",
    "print(lucky_sum(1, 2, 3))\n",
    "print(lucky_sum(1, 2, 13))\n",
    "print(lucky_sum(1, 13, 3))"
   ]
  },
  {
   "cell_type": "code",
   "execution_count": null,
   "metadata": {
    "tags": []
   },
   "outputs": [],
   "source": [
    "#We have two monkeys, a and b, and the parameters a_smile and b_smile indicate if #each is smiling. We are in trouble if they are both smiling or if neither of them #is smiling. Return True if we are in trouble.\n",
    "\n",
    "def monkey_trouble(a_smile, b_smile):\n",
    "  return True if a_smile == b_smile else False\n",
    "\n",
    "print(monkey_trouble(True, True))\n",
    "print(monkey_trouble(False, False))\n",
    "print(monkey_trouble(True, False))"
   ]
  },
  {
   "cell_type": "code",
   "execution_count": null,
   "metadata": {
    "tags": []
   },
   "outputs": [],
   "source": [
    "list1 = [1, 3, 4, 5, 2, 6, 8, 7, 0, 9, 10, 23, 7, 8, 12, 56]\n",
    "list_sorted = sorted(list1)\n",
    "y = len(list1)//2\n",
    "z = y-1\n",
    "print(list_sorted)\n",
    "if len(list1)%2 == 0:\n",
    "    print((list_sorted[y]+list_sorted[z])/2)\n",
    "else:\n",
    "    print(list_sorted[y]) "
   ]
  },
  {
   "cell_type": "code",
   "execution_count": null,
   "metadata": {},
   "outputs": [],
   "source": [
    "#berk's median\n",
    "\n",
    "def median(list_):\n",
    "    a = sorted(list_)\n",
    "    if len(a) % 2 == 0:\n",
    "        return (a[int(len(a)/2)] + a[int(len(a)/2 - 1)])/ 2\n",
    "    else:\n",
    "        return a[int(len(a)/2 - 0.5)]"
   ]
  },
  {
   "cell_type": "code",
   "execution_count": null,
   "metadata": {},
   "outputs": [],
   "source": [
    "#berk's monkey trouble\n",
    "\n",
    "a_smile = input(\"enter True or False: \").title()\n",
    "b_smile = input(\"enter True or False: \").title()\n",
    "[False if a_smile != b_smile else True][0]"
   ]
  },
  {
   "cell_type": "code",
   "execution_count": null,
   "metadata": {},
   "outputs": [],
   "source": [
    "#berk's lucky number\n",
    "\n",
    "a=(1,2,3,6,13,8,9)\n",
    "[sum(a) if 13 not in a else sum(a[:a.index(13)])][0]"
   ]
  },
  {
   "cell_type": "code",
   "execution_count": null,
   "metadata": {},
   "outputs": [],
   "source": [
    "# mevlüt's median\n",
    "\n",
    "list1 =[3, 4, 1, 5, 9, 1, 8, 7, 6, 3, 8, 7]\n",
    "list1.sort()\n",
    "if len(list1) % 2 == 0:\n",
    "    print((list1[int(len(list1)/2)] + list1[int(len(list1)/2) - 1]) / 2)\n",
    "\n",
    "list2 =[3, 4, 1, 5, 9, 1, 8, 7, 6, 3, 8, 7, 2]\n",
    "list2.sort()\n",
    "if len(list2) % 2 == 1:\n",
    "    print(list2[int((len(list2) + 1) / 2) - 1])"
   ]
  },
  {
   "cell_type": "code",
   "execution_count": null,
   "metadata": {},
   "outputs": [],
   "source": [
    "# mevlüt's monkey trouble\n",
    "\n",
    "def monkey_trouble(a,b):\n",
    "    if a == True and b == True:\n",
    "        return True\n",
    "    elif a == False and b == False:\n",
    "        return True\n",
    "    else:\n",
    "        return False"
   ]
  },
  {
   "cell_type": "code",
   "execution_count": null,
   "metadata": {},
   "outputs": [],
   "source": [
    "# mevlüt's luckky sum\n",
    "\n",
    "def lucky_sum(a,b,c):\n",
    "    if a == 13:\n",
    "        return 0\n",
    "    elif b == 13:\n",
    "        return a\n",
    "    elif c == 13:\n",
    "        return a + b\n",
    "    else:\n",
    "        return a + b + c"
   ]
  },
  {
   "cell_type": "code",
   "execution_count": null,
   "metadata": {},
   "outputs": [],
   "source": [
    "#brad's median\n",
    "\n",
    "list_1 =[3, 4, 1, 5, 9, 1, 8, 7, 6, 3, 8, 7, 2]\n",
    "if len(list_1)% 2 == 0:\n",
    "    a= sorted(list_1)\n",
    "    b= a[int(len(a)/2)]\n",
    "    c= (b+ a[b - 1])/2\n",
    "    print(c)\n",
    "else:\n",
    "    print(a[b-1])"
   ]
  },
  {
   "cell_type": "code",
   "execution_count": null,
   "metadata": {},
   "outputs": [],
   "source": [
    "# mevlüt's sudoku\n",
    "\n",
    "sudoku = [\n",
    "    [0, 0, 0, 0, 6, 4, 0, 0, 0],\n",
    "    [7, 0, 0, 0, 0, 0, 3, 9, 0],\n",
    "    [8, 0, 0, 0, 0, 0, 0, 0, 0],\n",
    "    [0, 0, 0, 5, 0, 2, 0, 6, 0],\n",
    "    [0, 8, 0, 4, 0, 0, 0, 0, 0],\n",
    "    [3, 5, 0, 6, 0, 0, 0, 7, 0],\n",
    "    [0, 0, 2, 0, 0, 0, 1, 0, 3],\n",
    "    [0, 0, 1, 0, 5, 9, 0, 0, 0],\n",
    "    [0, 0, 0, 0, 0, 0, 7, 0, 0]\n",
    "]\n",
    "count = 0\n",
    "count_2 = 0\n",
    "print(\"- \" * 15)\n",
    "for i in sudoku:\n",
    "    if sudoku[count_2] == i :\n",
    "        #print(\"- \" * 15)\n",
    "        for ii in i:\n",
    "            count += 1\n",
    "            print(ii, end=\"  \")\n",
    "            if count == 3 :\n",
    "                print(\"|\", end=\" \")\n",
    "            elif count == 6:\n",
    "                print(\"|\", end=\" \")\n",
    "        count = 0\n",
    "    print(\"\")\n",
    "    count_2 += 1\n",
    "    if count_2 == 3:\n",
    "        print(\"- \" * 15)\n",
    "    elif count_2 == 6:\n",
    "        print(\"- \" * 15)\n",
    "    elif count_2 == 9:\n",
    "        print(\"- \" * 15)"
   ]
  },
  {
   "cell_type": "code",
   "execution_count": null,
   "metadata": {},
   "outputs": [],
   "source": [
    "#berk's monkey\n",
    "\n",
    "\n",
    "a_smile = input(\"enter True or False: \").title()\n",
    "b_smile = input(\"enter True or False: \").title()\n",
    "[False if a_smile != b_smile else True][0]\n"
   ]
  },
  {
   "cell_type": "code",
   "execution_count": null,
   "metadata": {},
   "outputs": [],
   "source": [
    "# berk's lucky sum\n",
    "\n",
    "a=(1,2,3,6,13,8,9)\n",
    "[sum(a) if 13 not in a else sum(a[:a.index(13)])][0]"
   ]
  },
  {
   "cell_type": "code",
   "execution_count": null,
   "metadata": {},
   "outputs": [],
   "source": [
    "#necip's median\n",
    "\n",
    "m =  [3, 4, 1, 5, 9, 1, 8, 7, 6, 3, 8, 7]\n",
    "if len(m) % 2 ==0:\n",
    "    print((m[len(m)//2] + m[(len(m) - 1) //2]) /2)\n",
    "else:\n",
    "    print(m[len(m)//2])"
   ]
  },
  {
   "cell_type": "code",
   "execution_count": null,
   "metadata": {},
   "outputs": [],
   "source": [
    "# necip's lucky sum\n",
    "\n",
    "def lucky_sum (a, b, c):\n",
    "    if a == 13:\n",
    "        return 0\n",
    "    elif b == 13:\n",
    "        return a\n",
    "    elif c == 13:\n",
    "        return a+b\n",
    "    else:\n",
    "        return a+b+c"
   ]
  },
  {
   "cell_type": "code",
   "execution_count": null,
   "metadata": {},
   "outputs": [],
   "source": [
    "# necip's monkey\n",
    "\n",
    "def monkey_trouble(a,b):\n",
    "    if a == True and b == True:\n",
    "        return True\n",
    "    elif a == False and b == False:\n",
    "        return True\n",
    "    else:\n",
    "        return False"
   ]
  },
  {
   "cell_type": "code",
   "execution_count": null,
   "metadata": {},
   "outputs": [],
   "source": [
    "#adam's median\n",
    "\n",
    "n = len(list1)\n",
    "list1.sort()\n",
    "if n%2 == 0:\n",
    "    medyan1 = list1[n//2]\n",
    "    medyan2 = list1[n//2 - 1]\n",
    "    medyan = (medyan1 + medyan2)/2\n",
    "else:\n",
    "    medyan = list1[n//2]\n",
    "print(\"Medyan = \" + str(medyan))"
   ]
  },
  {
   "cell_type": "code",
   "execution_count": null,
   "metadata": {
    "tags": []
   },
   "outputs": [],
   "source": [
    "#yusuf's sudoku\n",
    "\n",
    "sudoku = [\n",
    "    [0, 0, 0, 0, 6, 4, 0, 0, 0],\n",
    "    [7, 0, 0, 0, 0, 0, 3, 9, 0],\n",
    "    [8, 0, 0, 0, 0, 0, 0, 0, 0],\n",
    "    [0, 0, 0, 5, 0, 2, 0, 6, 0],\n",
    "    [0, 8, 0, 4, 0, 0, 0, 0, 0],\n",
    "    [3, 5, 0, 6, 0, 0, 0, 7, 0],\n",
    "    [0, 0, 2, 0, 0, 0, 1, 0, 3],\n",
    "    [0, 0, 1, 0, 5, 9, 0, 0, 0],\n",
    "    [0, 0, 0, 0, 0, 0, 7, 0, 0]\n",
    "]\n",
    "a=1 #counter for horizontal\n",
    "b=1 #counter for vertical\n",
    "print('- - - - - - - - - - -')\n",
    "for x in range(len(sudoku[0])):\n",
    "    for i in sudoku[x]:\n",
    "        print(i, end=' ')\n",
    "        if a%3==0 and a%9!=0:\n",
    "            print('|',end=' ')\n",
    "        a +=1\n",
    "    if b%3==0:\n",
    "        print('\\n'+'- - - - - - - - - - -', end=' ')\n",
    "    b += 1\n",
    "    print()"
   ]
  },
  {
   "cell_type": "code",
   "execution_count": null,
   "metadata": {
    "tags": []
   },
   "outputs": [],
   "source": [
    "sudoku = [\n",
    "[0, 0, 0, 0, 6, 4, 0, 0, 0],\n",
    "[7, 0, 0, 0, 0, 0, 3, 9, 0],\n",
    "[8, 0, 0, 0, 0, 0, 0, 0, 0],\n",
    "[0, 0, 0, 5, 0, 2, 0, 6, 0],\n",
    "[0, 8, 0, 4, 0, 0, 0, 0, 0],\n",
    "[3, 5, 0, 6, 0, 0, 0, 7, 0],\n",
    "[0, 0, 2, 0, 0, 0, 1, 0, 3],\n",
    "[0, 0, 1, 0, 5, 9, 0, 0, 0],\n",
    "[0, 0, 0, 0, 0, 0, 7, 0, 0]\n",
    "]\n",
    "for i in range(10):\n",
    "    if i == 9:\n",
    "        print(\"- \" * 11)\n",
    "        break\n",
    "    elif i % 3 == 0:\n",
    "        print(\"- \" * 11)\n",
    "    for j in range(9):\n",
    "        print(sudoku[i][j], end=\" \")\n",
    "        if (j + 1) == 9:\n",
    "            print(end=\"\\n\")\n",
    "        elif j % 3 == 2 and j != 8:\n",
    "            print(\"|\", end=\" \")"
   ]
  },
  {
   "cell_type": "code",
   "execution_count": null,
   "metadata": {
    "tags": []
   },
   "outputs": [],
   "source": [
    "# mevlüt's strings\n",
    "\n",
    "def end_other(x, y):\n",
    "    if x.lower() in y.lower():\n",
    "        return True\n",
    "    elif y.lower() in x.lower():\n",
    "        return True\n",
    "    else:\n",
    "        return False\n",
    "\n",
    "print(end_other('Hiabc', 'abc'))\n",
    "print(end_other('AbC', 'HiaBc'))\n",
    "print(end_other('abc', 'abXabc'))"
   ]
  },
  {
   "cell_type": "code",
   "execution_count": null,
   "metadata": {
    "tags": []
   },
   "outputs": [],
   "source": [
    "#berk's strings\n",
    "\n",
    "def end_other(string1, string2):\n",
    "    a = len(string1)\n",
    "    b = len(string2)\n",
    "    if string1.lower() == string2[-a:].lower():\n",
    "        return True\n",
    "    elif string2.lower() == string1[-b:].lower():\n",
    "        return True\n",
    "\n",
    "print(end_other('Hiabc', 'abc'))\n",
    "print(end_other('AbC', 'HiaBc'))\n",
    "print(end_other('abc', 'abXabc'))"
   ]
  },
  {
   "cell_type": "code",
   "execution_count": null,
   "metadata": {},
   "outputs": [],
   "source": []
  },
  {
   "cell_type": "code",
   "execution_count": null,
   "metadata": {},
   "outputs": [],
   "source": []
  },
  {
   "cell_type": "code",
   "execution_count": null,
   "metadata": {},
   "outputs": [],
   "source": []
  }
 ]
}